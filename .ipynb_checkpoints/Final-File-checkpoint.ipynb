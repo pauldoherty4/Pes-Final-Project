{
 "cells": [
  {
   "cell_type": "markdown",
   "metadata": {},
   "source": [
    "## **Best Neighborhood in Pittsburgh**\n",
    "\n",
    "## Group Name: Pes (Paul and Wes)\n",
    "\n",
    "#### **Introduction**\n",
    "\n",
    "To find the best neighborhood in Pittsburgh, we decided to try and find the best neighborhood to raise a child in. We considered all the things parents want in a nieghborhood for their child, and decided to look at the number of parks, number of playgrounds, and number of kids enrolled in school. By doing this, we were able to look at information that was unrelated to get a wider idea of what the best neighborhood in Pittsburgh is.\n",
    "\n",
    "Data Metrics:\n",
    "Parks.csv (Parks Data)\n",
    "Playgrounds.csv (Playgrounds Data)\n",
    "neighborhood_enrollment.csv (Kids Enrolled in School Data)\n",
    "population-density.csv (Population by Neighborhood Data, from 2010)"
   ]
  },
  {
   "cell_type": "code",
   "execution_count": null,
   "metadata": {},
   "outputs": [],
   "source": [
    "import pandas as pd\n",
    "import numpy as np\n",
    "%matplotlib inline\n",
    "import matplotlib.pyplot as plt\n",
    "df = pd.read_csv(\"Parks.csv\", index_col=\"id\")"
   ]
  },
  {
   "cell_type": "code",
   "execution_count": null,
   "metadata": {},
   "outputs": [],
   "source": [
    "# Renames and reads Playgrounds.csv\n",
    "playgrounds = pd.read_csv(\"Playgrounds.csv\", index_col=\"id\")\n",
    "# Plots a graph where the value_counts() gets how many parks in the neighborhood and renames the graph as ax for axis labeling\n",
    "Playgrounds = playgrounds['neighborhood'].value_counts().sort_values()\n",
    "ax = Playgrounds.plot(kind='barh', rot=0, figsize=(15,35))\n",
    "ax.set_xlabel(\"Number of Playgrounds\")\n",
    "ax.set_ylabel(\"Name of Neighborhood\")\n",
    "plt.title(\"Playgrounds in Neighborhoods in Pittsburgh\")"
   ]
  },
  {
   "cell_type": "code",
   "execution_count": null,
   "metadata": {},
   "outputs": [],
   "source": [
    "y = df['type'].value_counts().sort_values()\n",
    "y.plot(kind='bar', rot=0, figsize=(15,20))"
   ]
  },
  {
   "cell_type": "code",
   "execution_count": null,
   "metadata": {},
   "outputs": [],
   "source": [
    "Parks = df['neighborhood'].value_counts().sort_values(ascending = False)"
   ]
  },
  {
   "cell_type": "code",
   "execution_count": null,
   "metadata": {},
   "outputs": [],
   "source": [
    "Parks.plot(kind='barh', rot=0, figsize=(15,35))"
   ]
  },
  {
   "cell_type": "code",
   "execution_count": null,
   "metadata": {},
   "outputs": [],
   "source": [
    "Parks.head(3)"
   ]
  },
  {
   "cell_type": "code",
   "execution_count": null,
   "metadata": {},
   "outputs": [],
   "source": []
  },
  {
   "cell_type": "code",
   "execution_count": null,
   "metadata": {},
   "outputs": [],
   "source": [
    "df = pd.merge(Parks, Playgrounds, right_index = True, left_index = True )\n",
    "df['neighborhood'] = df['neighborhood_x'] + df['neighborhood_y']\n",
    "total_parks = df['neighborhood']\n",
    "print(total_parks)"
   ]
  },
  {
   "cell_type": "code",
   "execution_count": null,
   "metadata": {},
   "outputs": [],
   "source": [
    "total_parks.sort_values().tail(5)"
   ]
  },
  {
   "cell_type": "markdown",
   "metadata": {},
   "source": [
    "## **Introduction**"
   ]
  },
  {
   "cell_type": "markdown",
   "metadata": {},
   "source": [
    "As part of the best neighborhood for a kid to grow up in, one of the metrics we had to look at was enrollment in schools. We decided to look at enrollment in schools by neighborhood, as we decided a neighborhood with more children enrolled in schools would be \"better.\" "
   ]
  },
  {
   "cell_type": "code",
   "execution_count": null,
   "metadata": {},
   "outputs": [],
   "source": [
    "#import pandas as pd\n",
    "#import numpy as np\n",
    "#%matplotlib inline\n",
    "#import matplotlib.pyplot as plt\n",
    "neighborhoodEnroll = pd.read_csv(\"neighborhood_enrollment.csv\")\n",
    "\n",
    "\n",
    "neighborhoodEnroll = neighborhoodEnroll.iloc[:, [0,8]]\n",
    "neighborhoodEnroll = neighborhoodEnroll.dropna()"
   ]
  },
  {
   "cell_type": "code",
   "execution_count": null,
   "metadata": {},
   "outputs": [],
   "source": [
    "kidsSchools = {} # Make Dictionary\n",
    "df = pd.DataFrame(neighborhoodEnroll)\n",
    "for index, row in df.iterrows():\n",
    "    try:\n",
    "        kidsSchools[row['neighborhood']] += int(row['total_students_enrolled'])\n",
    "    except:\n",
    "        kidsSchools[row['neighborhood']] = int(row['total_students_enrolled'])\n",
    "\n",
    "data = pd.DataFrame(kidsSchools, index=[0])\n",
    "ax = data.plot.barh(rot=0, figsize=(15,35))\n",
    "ax.set_xlabel('Enrollment')\n",
    "ax.set_ylabel('Neighborhoods')\n",
    "ax.invert_yaxis()\n",
    "plt.title('Number of Kids Enrolled in School by Neighborhood')"
   ]
  },
  {
   "cell_type": "code",
   "execution_count": null,
   "metadata": {},
   "outputs": [],
   "source": [
    "topTen = data.max().nlargest(10)\n",
    "topTen.plot.barh(rot=0, figsize=(5,10))\n",
    "plt.title('Top Ten Neighborhoods by Kids Enrolled in School')\n",
    "plt.xlabel('Enrollment')\n",
    "plt.ylabel('Neighborhood')"
   ]
  },
  {
   "cell_type": "code",
   "execution_count": null,
   "metadata": {},
   "outputs": [],
   "source": [
    "bottomTen = data.min().nsmallest(10)\n",
    "bottomTen.plot.barh(rot=0, figsize=(5,10))\n",
    "plt.title('Bottom Ten Neighborhoods by kids Enrolled in School')\n",
    "plt.xlabel('Enrollment')\n",
    "plt.ylabel('Neighborhood')"
   ]
  },
  {
   "cell_type": "code",
   "execution_count": null,
   "metadata": {},
   "outputs": [],
   "source": [
    "import pandas as pd\n",
    "import geopandas\n",
    "%matplotlib inline\n",
    "\n",
    "neighborhoods = geopandas.read_file('Neighborhoods_.shp')"
   ]
  },
  {
   "cell_type": "code",
   "execution_count": null,
   "metadata": {},
   "outputs": [],
   "source": [
    "school_enroll = neighborhoodEnroll.groupby('neighborhood').sum()['total_students_enrolled']\n",
    "school_enroll.sort_values(ascending=False)\n",
    "\n",
    "schools_map = neighborhoods.merge(school_enroll, how='left', left_on='hood', right_on='neighborhood')\n",
    "schools_map[['hood','total_students_enrolled']].head()"
   ]
  },
  {
   "cell_type": "code",
   "execution_count": null,
   "metadata": {},
   "outputs": [],
   "source": [
    "schools_map.plot(column='total_students_enrolled', # set the data to be used for coloring\n",
    "               cmap='OrRd',              # choose a color palette\n",
    "               edgecolor=\"black\",        # outline the districts in white\n",
    "               legend=True,              # show the legend\n",
    "               legend_kwds={'label': \"Total Students Enrolled\"}, # label the legend\n",
    "               figsize=(15, 10),         # set the size\n",
    "               missing_kwds={\"color\": \"lightgrey\"} # set disctricts with no data to gray\n",
    "               )"
   ]
  },
  {
   "cell_type": "code",
   "execution_count": null,
   "metadata": {},
   "outputs": [],
   "source": [
    "populations = pd.read_csv(\"population-density.csv\")\n",
    "populations = populations.iloc[:, [0,9]]\n",
    "df = pd.DataFrame(populations)\n",
    "\n",
    "pop_data = df.set_index('Neighborhood').T.to_dict('records')[0]\n",
    "for key in pop_data:\n",
    "    pop_data[key] = pop_data[key].replace(',', '')\n"
   ]
  },
  {
   "cell_type": "code",
   "execution_count": null,
   "metadata": {},
   "outputs": [],
   "source": [
    "school_percents = {}\n",
    "for key in pop_data:\n",
    "    if key in pop_data and key in kidsSchools:\n",
    "        school_percents[key] = (kidsSchools[key] / int(pop_data[key])) * 100\n"
   ]
  },
  {
   "cell_type": "code",
   "execution_count": null,
   "metadata": {},
   "outputs": [],
   "source": [
    "s = pd.DataFrame(school_percents, index=[0])\n",
    "topTenPers = s.max().nlargest(10)\n",
    "topTenPers.plot.barh(rot=0, figsize=(5,10))\n",
    "plt.title('Top Ten Neighborhoods by Percentage of Kids Enrolled in School')\n",
    "plt.xlabel('Percentage')\n",
    "plt.ylabel('Neighborhood')"
   ]
  },
  {
   "cell_type": "code",
   "execution_count": null,
   "metadata": {},
   "outputs": [],
   "source": [
    "school_series = pd.DataFrame(school_percents.items(), columns=['Neighborhood', 'Percent'])\n",
    "school_percentages = school_series.groupby('Neighborhood').sum()['Percent']\n",
    "s = school_percentages.sort_values(ascending=False)\n",
    "\n",
    "percentages_map = neighborhoods.merge(school_percentages, how='left', left_on='hood', right_on='Neighborhood')\n",
    "percentages_map[['hood','Percent']].head()"
   ]
  },
  {
   "cell_type": "code",
   "execution_count": null,
   "metadata": {},
   "outputs": [],
   "source": [
    "percentages_map.plot(column='Percent', # set the data to be used for coloring\n",
    "               cmap='OrRd',              # choose a color palette\n",
    "               edgecolor=\"black\",        # outline the districts in white\n",
    "               legend=True,              # show the legend\n",
    "               legend_kwds={'label': \"Percent of People in Neighboorhood Enrolled in School\"}, # label the legend\n",
    "               figsize=(15, 10),         # set the size\n",
    "               missing_kwds={\"color\": \"lightgrey\"} # set disctricts with no data to gray\n",
    "               )"
   ]
  },
  {
   "cell_type": "markdown",
   "metadata": {},
   "source": [
    "## **Combination**"
   ]
  },
  {
   "cell_type": "markdown",
   "metadata": {},
   "source": [
    "For the combination of our data, we decided to find the ratio of students enrolled in school to the total number of parks and playgrounds by neighborhood. We decided the lowest ratio would be best becuase that'd mean there's more parks for the kids."
   ]
  },
  {
   "cell_type": "code",
   "execution_count": null,
   "metadata": {},
   "outputs": [],
   "source": [
    "enroll_data = pd.Series(kidsSchools)\n",
    "total_Parks = pd.Series(total_parks)"
   ]
  },
  {
   "cell_type": "code",
   "execution_count": null,
   "metadata": {},
   "outputs": [],
   "source": [
    "ratio = {}\n",
    "for index, value in enroll_data.iteritems():\n",
    "    if index in enroll_data and index in total_Parks and enroll_data[index] > 200:\n",
    "        try:\n",
    "            ratio[index] = float(enroll_data[index] / total_Parks[index])\n",
    "        except:\n",
    "            pass\n"
   ]
  },
  {
   "cell_type": "code",
   "execution_count": null,
   "metadata": {},
   "outputs": [],
   "source": [
    "series = pd.Series(ratio)\n",
    "series.sort_values().head()"
   ]
  },
  {
   "cell_type": "code",
   "execution_count": null,
   "metadata": {},
   "outputs": [],
   "source": [
    "df = series.to_frame()\n",
    "new_column_names = ['Ratio']\n",
    "df.columns = new_column_names\n",
    "lowest = df.sort_values(by='Ratio').head(10)\n",
    "plt.scatter(lowest.index, lowest['Ratio'])\n",
    "plt.xticks(rotation = 90)\n",
    "plt.figure(figsize=(35,20))"
   ]
  },
  {
   "cell_type": "markdown",
   "metadata": {},
   "source": [
    "## **Conclusion**\n",
    "\n",
    "### The Best Neighborhood in Pittsburgh is: Highland Park"
   ]
  },
  {
   "cell_type": "markdown",
   "metadata": {},
   "source": [
    "Paul: As someone not from the Pittsburgh area and has not been around all of Pittsburgh yet, I do not know anything about Highland Park. However, after looking at pictures online it does look like a very nice nieghborhood, so I can understand our data led us to it. Based on these pictures, I do agree that Highland Park is the best neighborhood in Pittsburgh."
   ]
  },
  {
   "cell_type": "code",
   "execution_count": null,
   "metadata": {},
   "outputs": [],
   "source": []
  }
 ],
 "metadata": {
  "kernelspec": {
   "display_name": "Python 3 (ipykernel)",
   "language": "python",
   "name": "python3"
  },
  "language_info": {
   "codemirror_mode": {
    "name": "ipython",
    "version": 3
   },
   "file_extension": ".py",
   "mimetype": "text/x-python",
   "name": "python",
   "nbconvert_exporter": "python",
   "pygments_lexer": "ipython3",
   "version": "3.8.3"
  }
 },
 "nbformat": 4,
 "nbformat_minor": 4
}
